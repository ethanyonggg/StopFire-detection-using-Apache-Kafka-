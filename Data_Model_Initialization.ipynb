{
 "cells": [
  {
   "cell_type": "code",
   "execution_count": null,
   "metadata": {},
   "outputs": [],
   "source": [
    "import pymongo\n",
    "from pymongo import MongoClient\n",
    "client = MongoClient('10.192.96.162', 27017) "
   ]
  },
  {
   "cell_type": "markdown",
   "metadata": {},
   "source": [
    "## Task 01\n",
    "- Based on the two datasets provided hotspot_historic.csv and climate_historic.csv, a suitable datamodel to support the efficient querying of the two datasets in MongoDB would be to Embed both the documents together\n",
    "\n",
    "- Looking at the climate history and the hotspot history csv we can see that we can join embed both of these csv files by their dates\n",
    "\n",
    "- Each station would record the climate data for a set time interval everyday, the climate data would include variables such as air_temperature, relative_humidity, winspeedknots, max_wind_speed and precipitation\n",
    "\n",
    "- Each station would have 0 or more hotspots and would each hotspot record would have the time or record, latitude, longitude, confidence and the surface_temperature_celsius.\n",
    "\n",
    "- By embedding climate and hotspot we can retrieve the all date records of the recorded station before it switches to another station and from this we can also view the all hotspots and their relevant details such as the precise location and time\n",
    "\n",
    "- By fetching a single document this is more efficient that performing mutliple queries across separate collections or requiring join algroithms"
   ]
  }
 ],
 "metadata": {
  "kernelspec": {
   "display_name": "Python 3",
   "language": "python",
   "name": "python3"
  },
  "language_info": {
   "name": "python",
   "version": "3.9.13"
  }
 },
 "nbformat": 4,
 "nbformat_minor": 2
}
